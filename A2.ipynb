{
  "cells": [
    {
      "cell_type": "markdown",
      "source": [
        "Name : Abhinav A. Chaudhary\n",
        "\n",
        "Roll no : 1016\n",
        "\n",
        "  DL assignment2\n",
        "\n",
        "\n"
      ],
      "metadata": {
        "id": "iDAUvPuDJ6fB"
      },
      "id": "iDAUvPuDJ6fB"
    },
    {
      "cell_type": "code",
      "execution_count": 24,
      "id": "b2b08c83-0087-4db1-9abd-958291469746",
      "metadata": {
        "id": "b2b08c83-0087-4db1-9abd-958291469746"
      },
      "outputs": [],
      "source": [
        "import tensorflow as tf\n",
        "from keras.models import Sequential\n",
        "from keras.datasets import mnist\n",
        "import matplotlib.pyplot as plt\n",
        "import numpy as np\n",
        "import random\n",
        "import keras"
      ]
    },
    {
      "cell_type": "code",
      "execution_count": 25,
      "id": "cba6f2ef-814e-4faa-bfe7-e9b12c6531f0",
      "metadata": {
        "id": "cba6f2ef-814e-4faa-bfe7-e9b12c6531f0"
      },
      "outputs": [],
      "source": [
        "#Loading and Preprocessing Data and normalizing the data\n",
        "(x_train,y_train),(x_test,y_test)=mnist.load_data()\n",
        "x_train=x_train/255\n",
        "x_test=x_test/255\n"
      ]
    },
    {
      "cell_type": "code",
      "execution_count": 26,
      "id": "d0e2be12-be63-4427-936c-3749a56a6392",
      "metadata": {
        "id": "d0e2be12-be63-4427-936c-3749a56a6392"
      },
      "outputs": [],
      "source": [
        "#Building the Neural Network Model\n",
        "model=Sequential()\n",
        "#A flatten layer to convert 2D input data (28x28 images) into a 1D array\n",
        "model.add(keras.layers.Flatten(input_shape=(28,28)))\n",
        "#A dense layer with 128 neurons and ReLU activation function\n",
        "model.add(keras.layers.Dense(128,activation='relu'))\n",
        "#Another dense layer with 10 neurons (for 10 classes) and softmax activation function\n",
        "model.add(keras.layers.Dense(10,activation='softmax'))\n"
      ]
    },
    {
      "cell_type": "code",
      "execution_count": 27,
      "id": "486cec46-6d1a-4ec6-811c-ac232710bc3f",
      "metadata": {
        "colab": {
          "base_uri": "https://localhost:8080/"
        },
        "id": "486cec46-6d1a-4ec6-811c-ac232710bc3f",
        "outputId": "259d6066-fb2e-48f4-82ac-7c8865fa67fe"
      },
      "outputs": [
        {
          "output_type": "execute_result",
          "data": {
            "text/plain": [
              "array([[[0., 0., 0., ..., 0., 0., 0.],\n",
              "        [0., 0., 0., ..., 0., 0., 0.],\n",
              "        [0., 0., 0., ..., 0., 0., 0.],\n",
              "        ...,\n",
              "        [0., 0., 0., ..., 0., 0., 0.],\n",
              "        [0., 0., 0., ..., 0., 0., 0.],\n",
              "        [0., 0., 0., ..., 0., 0., 0.]],\n",
              "\n",
              "       [[0., 0., 0., ..., 0., 0., 0.],\n",
              "        [0., 0., 0., ..., 0., 0., 0.],\n",
              "        [0., 0., 0., ..., 0., 0., 0.],\n",
              "        ...,\n",
              "        [0., 0., 0., ..., 0., 0., 0.],\n",
              "        [0., 0., 0., ..., 0., 0., 0.],\n",
              "        [0., 0., 0., ..., 0., 0., 0.]],\n",
              "\n",
              "       [[0., 0., 0., ..., 0., 0., 0.],\n",
              "        [0., 0., 0., ..., 0., 0., 0.],\n",
              "        [0., 0., 0., ..., 0., 0., 0.],\n",
              "        ...,\n",
              "        [0., 0., 0., ..., 0., 0., 0.],\n",
              "        [0., 0., 0., ..., 0., 0., 0.],\n",
              "        [0., 0., 0., ..., 0., 0., 0.]],\n",
              "\n",
              "       ...,\n",
              "\n",
              "       [[0., 0., 0., ..., 0., 0., 0.],\n",
              "        [0., 0., 0., ..., 0., 0., 0.],\n",
              "        [0., 0., 0., ..., 0., 0., 0.],\n",
              "        ...,\n",
              "        [0., 0., 0., ..., 0., 0., 0.],\n",
              "        [0., 0., 0., ..., 0., 0., 0.],\n",
              "        [0., 0., 0., ..., 0., 0., 0.]],\n",
              "\n",
              "       [[0., 0., 0., ..., 0., 0., 0.],\n",
              "        [0., 0., 0., ..., 0., 0., 0.],\n",
              "        [0., 0., 0., ..., 0., 0., 0.],\n",
              "        ...,\n",
              "        [0., 0., 0., ..., 0., 0., 0.],\n",
              "        [0., 0., 0., ..., 0., 0., 0.],\n",
              "        [0., 0., 0., ..., 0., 0., 0.]],\n",
              "\n",
              "       [[0., 0., 0., ..., 0., 0., 0.],\n",
              "        [0., 0., 0., ..., 0., 0., 0.],\n",
              "        [0., 0., 0., ..., 0., 0., 0.],\n",
              "        ...,\n",
              "        [0., 0., 0., ..., 0., 0., 0.],\n",
              "        [0., 0., 0., ..., 0., 0., 0.],\n",
              "        [0., 0., 0., ..., 0., 0., 0.]]])"
            ]
          },
          "metadata": {},
          "execution_count": 27
        }
      ],
      "source": [
        "x_train\n"
      ]
    },
    {
      "cell_type": "code",
      "execution_count": 28,
      "id": "c5145003-8b4b-40ef-8d14-9eb7f580b7ef",
      "metadata": {
        "id": "c5145003-8b4b-40ef-8d14-9eb7f580b7ef"
      },
      "outputs": [],
      "source": [
        "#Model compilation is an activity performed after writing the statements in a model and before training starts. It checks for format errors, and defines the loss function, the optimizer or learning rate, and the metric\n",
        "model.compile(optimizer='sgd',loss='sparse_categorical_crossentropy',metrics=[\"accuracy\"])"
      ]
    },
    {
      "cell_type": "code",
      "execution_count": 29,
      "id": "a6ad8a48-42be-497a-a4a4-28637a8a408a",
      "metadata": {
        "colab": {
          "base_uri": "https://localhost:8080/"
        },
        "id": "a6ad8a48-42be-497a-a4a4-28637a8a408a",
        "outputId": "1d3937ee-ea9d-4b6b-b23c-b50a395c8b18"
      },
      "outputs": [
        {
          "output_type": "stream",
          "name": "stdout",
          "text": [
            "Epoch 1/5\n",
            "1875/1875 [==============================] - 10s 5ms/step - loss: 0.6435 - accuracy: 0.8403 - val_loss: 0.3546 - val_accuracy: 0.9018\n",
            "Epoch 2/5\n",
            "1875/1875 [==============================] - 15s 8ms/step - loss: 0.3316 - accuracy: 0.9072 - val_loss: 0.2872 - val_accuracy: 0.9194\n",
            "Epoch 3/5\n",
            "1875/1875 [==============================] - 14s 7ms/step - loss: 0.2829 - accuracy: 0.9204 - val_loss: 0.2556 - val_accuracy: 0.9272\n",
            "Epoch 4/5\n",
            "1875/1875 [==============================] - 16s 8ms/step - loss: 0.2521 - accuracy: 0.9296 - val_loss: 0.2296 - val_accuracy: 0.9351\n",
            "Epoch 5/5\n",
            "1875/1875 [==============================] - 10s 5ms/step - loss: 0.2291 - accuracy: 0.9361 - val_loss: 0.2139 - val_accuracy: 0.9391\n"
          ]
        }
      ],
      "source": [
        "#here we are training the model\n",
        "H=model.fit(x_train,y_train,validation_data=(x_test,y_test),epochs=5)"
      ]
    },
    {
      "cell_type": "code",
      "execution_count": 30,
      "id": "89606191-8251-4cd1-a047-dd1071f2abd4",
      "metadata": {
        "colab": {
          "base_uri": "https://localhost:8080/"
        },
        "id": "89606191-8251-4cd1-a047-dd1071f2abd4",
        "outputId": "26b1b82b-b959-4bc8-864a-5779f5497b79"
      },
      "outputs": [
        {
          "output_type": "stream",
          "name": "stdout",
          "text": [
            "313/313 [==============================] - 1s 2ms/step - loss: 0.2139 - accuracy: 0.9391\n",
            "Testing Loss= 0.214\n",
            "Testing Accuracy=0.939\n"
          ]
        }
      ],
      "source": [
        "#evaluating the model\n",
        "test_loss,test_acc=model.evaluate(x_test,y_test)\n",
        "print(\"Testing Loss= %.3f\"%test_loss)\n",
        "print(\"Testing Accuracy=%.3f\"%test_acc)"
      ]
    },
    {
      "cell_type": "code",
      "execution_count": 31,
      "id": "d2a039ec-13a5-45af-812a-ef9d40526f88",
      "metadata": {
        "colab": {
          "base_uri": "https://localhost:8080/"
        },
        "id": "d2a039ec-13a5-45af-812a-ef9d40526f88",
        "outputId": "d41909bc-468f-481c-825e-818c78cf42d9"
      },
      "outputs": [
        {
          "output_type": "stream",
          "name": "stdout",
          "text": [
            "1875/1875 [==============================] - 4s 2ms/step - loss: 0.2164 - accuracy: 0.9395\n",
            "Training Loss= 0.216\n",
            "Training Accuracy=0.940\n"
          ]
        }
      ],
      "source": [
        "train_loss,train_acc=model.evaluate(x_train,y_train)\n",
        "print(\"Training Loss= %.3f\"%train_loss)\n",
        "print(\"Training Accuracy=%.3f\"%train_acc)"
      ]
    },
    {
      "cell_type": "code",
      "execution_count": 32,
      "id": "573ef649-d2c9-496c-8b74-e9d977afcee0",
      "metadata": {
        "colab": {
          "base_uri": "https://localhost:8080/",
          "height": 465
        },
        "id": "573ef649-d2c9-496c-8b74-e9d977afcee0",
        "outputId": "91848255-6ad9-49a1-e350-2ab35be8cbd5"
      },
      "outputs": [
        {
          "output_type": "display_data",
          "data": {
            "text/plain": [
              "<Figure size 640x480 with 1 Axes>"
            ],
            "image/png": "[encoded data removed]"
          },
          "metadata": {}
        },
        {
          "output_type": "stream",
          "name": "stdout",
          "text": [
            "313/313 [==============================] - 1s 2ms/step\n",
            "The handwritten number in the image is 8\n"
          ]
        }
      ],
      "source": [
        "#A random test image is selected, displayed using plt.imshow(), and the model predicts the digit in the image and prints it out.\n",
        "n=random.randint(0,9999)\n",
        "plt.imshow(x_test[n])\n",
        "plt.show()\n",
        "prediction=model.predict(x_test)\n",
        "print(\"The handwritten number in the image is %d\"%np.argmax(prediction[n]))"
      ]
    },
    {
      "cell_type": "code",
      "execution_count": 33,
      "id": "0a5bea80-324c-4461-9d77-91dd440c73b8",
      "metadata": {
        "colab": {
          "base_uri": "https://localhost:8080/",
          "height": 447
        },
        "id": "0a5bea80-324c-4461-9d77-91dd440c73b8",
        "outputId": "93001bd9-9354-4246-9efd-add80c90f470"
      },
      "outputs": [
        {
          "output_type": "execute_result",
          "data": {
            "text/plain": [
              "[<matplotlib.lines.Line2D at 0x7e72d0991630>]"
            ]
          },
          "metadata": {},
          "execution_count": 33
        },
        {
          "output_type": "display_data",
          "data": {
            "text/plain": [
              "<Figure size 640x480 with 1 Axes>"
            ],
            "image/png": "[encoded data removed]"
          },
          "metadata": {}
        }
      ],
      "source": [
        "plt.plot(np.arange(0, 5), H.history[\"loss\"], label=\"train_loss\")\n",
        "plt.plot(np.arange(0, 5), H.history[\"val_loss\"], label=\"val_loss\")\n",
        "plt.plot(np.arange(0, 5), H.history[\"accuracy\"], label=\"train_acc\")\n",
        "plt.plot(np.arange(0, 5), H.history[\"val_accuracy\"], label=\"val_acc\")\n"
      ]
    }
  ],
  "metadata": {
    "kernelspec": {
      "display_name": "Python 3",
      "language": "python",
      "name": "python3"
    },
    "language_info": {
      "codemirror_mode": {
        "name": "ipython",
        "version": 3
      },
      "file_extension": ".py",
      "mimetype": "text/x-python",
      "name": "python",
      "nbconvert_exporter": "python",
      "pygments_lexer": "ipython3",
      "version": "3.8.10"
    },
    "colab": {
      "provenance": []
    }
  },
  "nbformat": 4,
  "nbformat_minor": 5
}